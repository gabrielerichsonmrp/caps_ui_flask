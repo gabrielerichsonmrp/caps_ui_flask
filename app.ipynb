{
 "cells": [
  {
   "cell_type": "code",
   "execution_count": 38,
   "metadata": {},
   "outputs": [],
   "source": [
    "import pandas as pd\n",
    "import numpy as np"
   ]
  },
  {
   "cell_type": "code",
   "execution_count": 2,
   "metadata": {},
   "outputs": [],
   "source": [
    "playstore = pd.read_csv('data/googleplaystore.csv')"
   ]
  },
  {
   "cell_type": "code",
   "execution_count": 5,
   "metadata": {},
   "outputs": [
    {
     "output_type": "execute_result",
     "data": {
      "text/plain": "App                object\nCategory           object\nRating            float64\nReviews            object\nSize               object\nInstalls           object\nType               object\nPrice              object\nContent Rating     object\nGenres             object\nLast Updated       object\nCurrent Ver        object\nAndroid Ver        object\ndtype: object"
     },
     "metadata": {},
     "execution_count": 5
    }
   ],
   "source": [
    "playstore.shape\n",
    "playstore.dtypes"
   ]
  },
  {
   "cell_type": "code",
   "execution_count": 6,
   "metadata": {},
   "outputs": [
    {
     "output_type": "execute_result",
     "data": {
      "text/plain": "                                                 App        Category  Rating  \\\n0     Photo Editor & Candy Camera & Grid & ScrapBook  ART_AND_DESIGN     4.1   \n1                                Coloring book moana  ART_AND_DESIGN     3.9   \n2  U Launcher Lite – FREE Live Cool Themes, Hide ...  ART_AND_DESIGN     4.7   \n3                              Sketch - Draw & Paint  ART_AND_DESIGN     4.5   \n4              Pixel Draw - Number Art Coloring Book  ART_AND_DESIGN     4.3   \n\n  Reviews  Size     Installs  Type Price Content Rating  \\\n0     159   19M      10,000+  Free     0       Everyone   \n1     967   14M     500,000+  Free     0       Everyone   \n2   87510  8.7M   5,000,000+  Free     0       Everyone   \n3  215644   25M  50,000,000+  Free     0           Teen   \n4     967  2.8M     100,000+  Free     0       Everyone   \n\n                      Genres      Last Updated         Current Ver  \\\n0               Art & Design   January 7, 2018               1.0.0   \n1  Art & Design;Pretend Play  January 15, 2018               2.0.0   \n2               Art & Design    August 1, 2018               1.2.4   \n3               Art & Design      June 8, 2018  Varies with device   \n4    Art & Design;Creativity     June 20, 2018                 1.1   \n\n    Android Ver  \n0  4.0.3 and up  \n1  4.0.3 and up  \n2  4.0.3 and up  \n3    4.2 and up  \n4    4.4 and up  ",
      "text/html": "<div>\n<style scoped>\n    .dataframe tbody tr th:only-of-type {\n        vertical-align: middle;\n    }\n\n    .dataframe tbody tr th {\n        vertical-align: top;\n    }\n\n    .dataframe thead th {\n        text-align: right;\n    }\n</style>\n<table border=\"1\" class=\"dataframe\">\n  <thead>\n    <tr style=\"text-align: right;\">\n      <th></th>\n      <th>App</th>\n      <th>Category</th>\n      <th>Rating</th>\n      <th>Reviews</th>\n      <th>Size</th>\n      <th>Installs</th>\n      <th>Type</th>\n      <th>Price</th>\n      <th>Content Rating</th>\n      <th>Genres</th>\n      <th>Last Updated</th>\n      <th>Current Ver</th>\n      <th>Android Ver</th>\n    </tr>\n  </thead>\n  <tbody>\n    <tr>\n      <th>0</th>\n      <td>Photo Editor &amp; Candy Camera &amp; Grid &amp; ScrapBook</td>\n      <td>ART_AND_DESIGN</td>\n      <td>4.1</td>\n      <td>159</td>\n      <td>19M</td>\n      <td>10,000+</td>\n      <td>Free</td>\n      <td>0</td>\n      <td>Everyone</td>\n      <td>Art &amp; Design</td>\n      <td>January 7, 2018</td>\n      <td>1.0.0</td>\n      <td>4.0.3 and up</td>\n    </tr>\n    <tr>\n      <th>1</th>\n      <td>Coloring book moana</td>\n      <td>ART_AND_DESIGN</td>\n      <td>3.9</td>\n      <td>967</td>\n      <td>14M</td>\n      <td>500,000+</td>\n      <td>Free</td>\n      <td>0</td>\n      <td>Everyone</td>\n      <td>Art &amp; Design;Pretend Play</td>\n      <td>January 15, 2018</td>\n      <td>2.0.0</td>\n      <td>4.0.3 and up</td>\n    </tr>\n    <tr>\n      <th>2</th>\n      <td>U Launcher Lite – FREE Live Cool Themes, Hide ...</td>\n      <td>ART_AND_DESIGN</td>\n      <td>4.7</td>\n      <td>87510</td>\n      <td>8.7M</td>\n      <td>5,000,000+</td>\n      <td>Free</td>\n      <td>0</td>\n      <td>Everyone</td>\n      <td>Art &amp; Design</td>\n      <td>August 1, 2018</td>\n      <td>1.2.4</td>\n      <td>4.0.3 and up</td>\n    </tr>\n    <tr>\n      <th>3</th>\n      <td>Sketch - Draw &amp; Paint</td>\n      <td>ART_AND_DESIGN</td>\n      <td>4.5</td>\n      <td>215644</td>\n      <td>25M</td>\n      <td>50,000,000+</td>\n      <td>Free</td>\n      <td>0</td>\n      <td>Teen</td>\n      <td>Art &amp; Design</td>\n      <td>June 8, 2018</td>\n      <td>Varies with device</td>\n      <td>4.2 and up</td>\n    </tr>\n    <tr>\n      <th>4</th>\n      <td>Pixel Draw - Number Art Coloring Book</td>\n      <td>ART_AND_DESIGN</td>\n      <td>4.3</td>\n      <td>967</td>\n      <td>2.8M</td>\n      <td>100,000+</td>\n      <td>Free</td>\n      <td>0</td>\n      <td>Everyone</td>\n      <td>Art &amp; Design;Creativity</td>\n      <td>June 20, 2018</td>\n      <td>1.1</td>\n      <td>4.4 and up</td>\n    </tr>\n  </tbody>\n</table>\n</div>"
     },
     "metadata": {},
     "execution_count": 6
    }
   ],
   "source": [
    "playstore.head()"
   ]
  },
  {
   "cell_type": "code",
   "execution_count": 13,
   "metadata": {},
   "outputs": [
    {
     "output_type": "execute_result",
     "data": {
      "text/plain": "                                                     App             Category  \\\n0         Photo Editor & Candy Camera & Grid & ScrapBook       ART_AND_DESIGN   \n1                                    Coloring book moana       ART_AND_DESIGN   \n2      U Launcher Lite – FREE Live Cool Themes, Hide ...       ART_AND_DESIGN   \n3                                  Sketch - Draw & Paint       ART_AND_DESIGN   \n4                  Pixel Draw - Number Art Coloring Book       ART_AND_DESIGN   \n...                                                  ...                  ...   \n10836                                   Sya9a Maroc - FR               FAMILY   \n10837                   Fr. Mike Schmitz Audio Teachings               FAMILY   \n10838                             Parkinson Exercices FR              MEDICAL   \n10839                      The SCP Foundation DB fr nn5n  BOOKS_AND_REFERENCE   \n10840      iHoroscope - 2018 Daily Horoscope & Astrology            LIFESTYLE   \n\n       Rating Reviews                Size     Installs  Type Price  \\\n0         4.1     159                 19M      10,000+  Free     0   \n1         3.9     967                 14M     500,000+  Free     0   \n2         4.7   87510                8.7M   5,000,000+  Free     0   \n3         4.5  215644                 25M  50,000,000+  Free     0   \n4         4.3     967                2.8M     100,000+  Free     0   \n...       ...     ...                 ...          ...   ...   ...   \n10836     4.5      38                 53M       5,000+  Free     0   \n10837     5.0       4                3.6M         100+  Free     0   \n10838     NaN       3                9.5M       1,000+  Free     0   \n10839     4.5     114  Varies with device       1,000+  Free     0   \n10840     4.5  398307                 19M  10,000,000+  Free     0   \n\n      Content Rating                     Genres      Last Updated  \\\n0           Everyone               Art & Design   January 7, 2018   \n1           Everyone  Art & Design;Pretend Play  January 15, 2018   \n2           Everyone               Art & Design    August 1, 2018   \n3               Teen               Art & Design      June 8, 2018   \n4           Everyone    Art & Design;Creativity     June 20, 2018   \n...              ...                        ...               ...   \n10836       Everyone                  Education     July 25, 2017   \n10837       Everyone                  Education      July 6, 2018   \n10838       Everyone                    Medical  January 20, 2017   \n10839     Mature 17+          Books & Reference  January 19, 2015   \n10840       Everyone                  Lifestyle     July 25, 2018   \n\n              Current Ver         Android Ver  \n0                   1.0.0        4.0.3 and up  \n1                   2.0.0        4.0.3 and up  \n2                   1.2.4        4.0.3 and up  \n3      Varies with device          4.2 and up  \n4                     1.1          4.4 and up  \n...                   ...                 ...  \n10836                1.48          4.1 and up  \n10837                 1.0          4.1 and up  \n10838                 1.0          2.2 and up  \n10839  Varies with device  Varies with device  \n10840  Varies with device  Varies with device  \n\n[9660 rows x 13 columns]",
      "text/html": "<div>\n<style scoped>\n    .dataframe tbody tr th:only-of-type {\n        vertical-align: middle;\n    }\n\n    .dataframe tbody tr th {\n        vertical-align: top;\n    }\n\n    .dataframe thead th {\n        text-align: right;\n    }\n</style>\n<table border=\"1\" class=\"dataframe\">\n  <thead>\n    <tr style=\"text-align: right;\">\n      <th></th>\n      <th>App</th>\n      <th>Category</th>\n      <th>Rating</th>\n      <th>Reviews</th>\n      <th>Size</th>\n      <th>Installs</th>\n      <th>Type</th>\n      <th>Price</th>\n      <th>Content Rating</th>\n      <th>Genres</th>\n      <th>Last Updated</th>\n      <th>Current Ver</th>\n      <th>Android Ver</th>\n    </tr>\n  </thead>\n  <tbody>\n    <tr>\n      <th>0</th>\n      <td>Photo Editor &amp; Candy Camera &amp; Grid &amp; ScrapBook</td>\n      <td>ART_AND_DESIGN</td>\n      <td>4.1</td>\n      <td>159</td>\n      <td>19M</td>\n      <td>10,000+</td>\n      <td>Free</td>\n      <td>0</td>\n      <td>Everyone</td>\n      <td>Art &amp; Design</td>\n      <td>January 7, 2018</td>\n      <td>1.0.0</td>\n      <td>4.0.3 and up</td>\n    </tr>\n    <tr>\n      <th>1</th>\n      <td>Coloring book moana</td>\n      <td>ART_AND_DESIGN</td>\n      <td>3.9</td>\n      <td>967</td>\n      <td>14M</td>\n      <td>500,000+</td>\n      <td>Free</td>\n      <td>0</td>\n      <td>Everyone</td>\n      <td>Art &amp; Design;Pretend Play</td>\n      <td>January 15, 2018</td>\n      <td>2.0.0</td>\n      <td>4.0.3 and up</td>\n    </tr>\n    <tr>\n      <th>2</th>\n      <td>U Launcher Lite – FREE Live Cool Themes, Hide ...</td>\n      <td>ART_AND_DESIGN</td>\n      <td>4.7</td>\n      <td>87510</td>\n      <td>8.7M</td>\n      <td>5,000,000+</td>\n      <td>Free</td>\n      <td>0</td>\n      <td>Everyone</td>\n      <td>Art &amp; Design</td>\n      <td>August 1, 2018</td>\n      <td>1.2.4</td>\n      <td>4.0.3 and up</td>\n    </tr>\n    <tr>\n      <th>3</th>\n      <td>Sketch - Draw &amp; Paint</td>\n      <td>ART_AND_DESIGN</td>\n      <td>4.5</td>\n      <td>215644</td>\n      <td>25M</td>\n      <td>50,000,000+</td>\n      <td>Free</td>\n      <td>0</td>\n      <td>Teen</td>\n      <td>Art &amp; Design</td>\n      <td>June 8, 2018</td>\n      <td>Varies with device</td>\n      <td>4.2 and up</td>\n    </tr>\n    <tr>\n      <th>4</th>\n      <td>Pixel Draw - Number Art Coloring Book</td>\n      <td>ART_AND_DESIGN</td>\n      <td>4.3</td>\n      <td>967</td>\n      <td>2.8M</td>\n      <td>100,000+</td>\n      <td>Free</td>\n      <td>0</td>\n      <td>Everyone</td>\n      <td>Art &amp; Design;Creativity</td>\n      <td>June 20, 2018</td>\n      <td>1.1</td>\n      <td>4.4 and up</td>\n    </tr>\n    <tr>\n      <th>...</th>\n      <td>...</td>\n      <td>...</td>\n      <td>...</td>\n      <td>...</td>\n      <td>...</td>\n      <td>...</td>\n      <td>...</td>\n      <td>...</td>\n      <td>...</td>\n      <td>...</td>\n      <td>...</td>\n      <td>...</td>\n      <td>...</td>\n    </tr>\n    <tr>\n      <th>10836</th>\n      <td>Sya9a Maroc - FR</td>\n      <td>FAMILY</td>\n      <td>4.5</td>\n      <td>38</td>\n      <td>53M</td>\n      <td>5,000+</td>\n      <td>Free</td>\n      <td>0</td>\n      <td>Everyone</td>\n      <td>Education</td>\n      <td>July 25, 2017</td>\n      <td>1.48</td>\n      <td>4.1 and up</td>\n    </tr>\n    <tr>\n      <th>10837</th>\n      <td>Fr. Mike Schmitz Audio Teachings</td>\n      <td>FAMILY</td>\n      <td>5.0</td>\n      <td>4</td>\n      <td>3.6M</td>\n      <td>100+</td>\n      <td>Free</td>\n      <td>0</td>\n      <td>Everyone</td>\n      <td>Education</td>\n      <td>July 6, 2018</td>\n      <td>1.0</td>\n      <td>4.1 and up</td>\n    </tr>\n    <tr>\n      <th>10838</th>\n      <td>Parkinson Exercices FR</td>\n      <td>MEDICAL</td>\n      <td>NaN</td>\n      <td>3</td>\n      <td>9.5M</td>\n      <td>1,000+</td>\n      <td>Free</td>\n      <td>0</td>\n      <td>Everyone</td>\n      <td>Medical</td>\n      <td>January 20, 2017</td>\n      <td>1.0</td>\n      <td>2.2 and up</td>\n    </tr>\n    <tr>\n      <th>10839</th>\n      <td>The SCP Foundation DB fr nn5n</td>\n      <td>BOOKS_AND_REFERENCE</td>\n      <td>4.5</td>\n      <td>114</td>\n      <td>Varies with device</td>\n      <td>1,000+</td>\n      <td>Free</td>\n      <td>0</td>\n      <td>Mature 17+</td>\n      <td>Books &amp; Reference</td>\n      <td>January 19, 2015</td>\n      <td>Varies with device</td>\n      <td>Varies with device</td>\n    </tr>\n    <tr>\n      <th>10840</th>\n      <td>iHoroscope - 2018 Daily Horoscope &amp; Astrology</td>\n      <td>LIFESTYLE</td>\n      <td>4.5</td>\n      <td>398307</td>\n      <td>19M</td>\n      <td>10,000,000+</td>\n      <td>Free</td>\n      <td>0</td>\n      <td>Everyone</td>\n      <td>Lifestyle</td>\n      <td>July 25, 2018</td>\n      <td>Varies with device</td>\n      <td>Varies with device</td>\n    </tr>\n  </tbody>\n</table>\n<p>9660 rows × 13 columns</p>\n</div>"
     },
     "metadata": {},
     "execution_count": 13
    }
   ],
   "source": [
    " playstore.drop_duplicates(subset=['App'],keep='first')"
   ]
  },
  {
   "cell_type": "code",
   "execution_count": 14,
   "metadata": {},
   "outputs": [],
   "source": [
    "playstore.drop([10472], inplace=True)"
   ]
  },
  {
   "cell_type": "code",
   "execution_count": 21,
   "metadata": {},
   "outputs": [],
   "source": [
    "playstore['Category'] = playstore['Category'].astype('category')"
   ]
  },
  {
   "cell_type": "code",
   "execution_count": 22,
   "metadata": {},
   "outputs": [
    {
     "output_type": "execute_result",
     "data": {
      "text/plain": "0            10,000+\n1           500,000+\n2         5,000,000+\n3        50,000,000+\n4           100,000+\n            ...     \n10836         5,000+\n10837           100+\n10838         1,000+\n10839         1,000+\n10840    10,000,000+\nName: Installs, Length: 10840, dtype: object"
     },
     "metadata": {},
     "execution_count": 22
    }
   ],
   "source": [
    "playstore.Installs"
   ]
  },
  {
   "cell_type": "code",
   "execution_count": 25,
   "metadata": {},
   "outputs": [],
   "source": [
    "playstore['Installs'] = playstore.Installs.apply(lambda x: x.replace(',',''))\n",
    "playstore['Installs'] = playstore.Installs.apply(lambda x: x.replace('+',''))"
   ]
  },
  {
   "cell_type": "code",
   "execution_count": 34,
   "metadata": {},
   "outputs": [],
   "source": [
    "playstore['Installs'] = playstore['Installs'].astype('int')"
   ]
  },
  {
   "cell_type": "code",
   "execution_count": 39,
   "metadata": {},
   "outputs": [],
   "source": [
    "playstore['Size'].replace('Varies with device', np.nan, inplace = True ) \n",
    "playstore.Size = (playstore.Size.replace(r'[kM]+$', '', regex=True).astype(float) * \\\n",
    "             playstore.Size.str.extract(r'[\\d\\.]+([KM]+)', expand=False)\n",
    "            .fillna(1)\n",
    "            .replace(['k','M'], [10**3, 10**6]).astype(int))\n",
    "playstore['Size'].fillna(playstore.groupby('Category')['Size'].transform('mean'),inplace = True)"
   ]
  },
  {
   "cell_type": "code",
   "execution_count": 44,
   "metadata": {},
   "outputs": [],
   "source": [
    "playstore['Price'] = playstore['Price'].apply(lambda x: x.replace('$',''))\n",
    "playstore['Price'] = playstore['Price'].astype('float')"
   ]
  },
  {
   "cell_type": "code",
   "execution_count": 46,
   "metadata": {},
   "outputs": [
    {
     "output_type": "execute_result",
     "data": {
      "text/plain": "App                 object\nCategory          category\nRating             float64\nReviews             object\nSize               float64\nInstalls             int32\nType                object\nPrice              float64\nContent Rating      object\nGenres              object\nLast Updated        object\nCurrent Ver         object\nAndroid Ver         object\ndtype: object"
     },
     "metadata": {},
     "execution_count": 46
    }
   ],
   "source": [
    "playstore.dtypes"
   ]
  },
  {
   "cell_type": "code",
   "execution_count": 47,
   "metadata": {},
   "outputs": [],
   "source": [
    "df2 = playstore.copy()"
   ]
  },
  {
   "cell_type": "code",
   "execution_count": 48,
   "metadata": {},
   "outputs": [
    {
     "output_type": "execute_result",
     "data": {
      "text/plain": "                                                 App        Category  Rating  \\\n0     Photo Editor & Candy Camera & Grid & ScrapBook  ART_AND_DESIGN     4.1   \n1                                Coloring book moana  ART_AND_DESIGN     3.9   \n2  U Launcher Lite – FREE Live Cool Themes, Hide ...  ART_AND_DESIGN     4.7   \n3                              Sketch - Draw & Paint  ART_AND_DESIGN     4.5   \n4              Pixel Draw - Number Art Coloring Book  ART_AND_DESIGN     4.3   \n\n  Reviews        Size  Installs  Type  Price Content Rating  \\\n0     159  19000000.0     10000  Free    0.0       Everyone   \n1     967  14000000.0    500000  Free    0.0       Everyone   \n2   87510   8700000.0   5000000  Free    0.0       Everyone   \n3  215644  25000000.0  50000000  Free    0.0           Teen   \n4     967   2800000.0    100000  Free    0.0       Everyone   \n\n                      Genres      Last Updated         Current Ver  \\\n0               Art & Design   January 7, 2018               1.0.0   \n1  Art & Design;Pretend Play  January 15, 2018               2.0.0   \n2               Art & Design    August 1, 2018               1.2.4   \n3               Art & Design      June 8, 2018  Varies with device   \n4    Art & Design;Creativity     June 20, 2018                 1.1   \n\n    Android Ver  \n0  4.0.3 and up  \n1  4.0.3 and up  \n2  4.0.3 and up  \n3    4.2 and up  \n4    4.4 and up  ",
      "text/html": "<div>\n<style scoped>\n    .dataframe tbody tr th:only-of-type {\n        vertical-align: middle;\n    }\n\n    .dataframe tbody tr th {\n        vertical-align: top;\n    }\n\n    .dataframe thead th {\n        text-align: right;\n    }\n</style>\n<table border=\"1\" class=\"dataframe\">\n  <thead>\n    <tr style=\"text-align: right;\">\n      <th></th>\n      <th>App</th>\n      <th>Category</th>\n      <th>Rating</th>\n      <th>Reviews</th>\n      <th>Size</th>\n      <th>Installs</th>\n      <th>Type</th>\n      <th>Price</th>\n      <th>Content Rating</th>\n      <th>Genres</th>\n      <th>Last Updated</th>\n      <th>Current Ver</th>\n      <th>Android Ver</th>\n    </tr>\n  </thead>\n  <tbody>\n    <tr>\n      <th>0</th>\n      <td>Photo Editor &amp; Candy Camera &amp; Grid &amp; ScrapBook</td>\n      <td>ART_AND_DESIGN</td>\n      <td>4.1</td>\n      <td>159</td>\n      <td>19000000.0</td>\n      <td>10000</td>\n      <td>Free</td>\n      <td>0.0</td>\n      <td>Everyone</td>\n      <td>Art &amp; Design</td>\n      <td>January 7, 2018</td>\n      <td>1.0.0</td>\n      <td>4.0.3 and up</td>\n    </tr>\n    <tr>\n      <th>1</th>\n      <td>Coloring book moana</td>\n      <td>ART_AND_DESIGN</td>\n      <td>3.9</td>\n      <td>967</td>\n      <td>14000000.0</td>\n      <td>500000</td>\n      <td>Free</td>\n      <td>0.0</td>\n      <td>Everyone</td>\n      <td>Art &amp; Design;Pretend Play</td>\n      <td>January 15, 2018</td>\n      <td>2.0.0</td>\n      <td>4.0.3 and up</td>\n    </tr>\n    <tr>\n      <th>2</th>\n      <td>U Launcher Lite – FREE Live Cool Themes, Hide ...</td>\n      <td>ART_AND_DESIGN</td>\n      <td>4.7</td>\n      <td>87510</td>\n      <td>8700000.0</td>\n      <td>5000000</td>\n      <td>Free</td>\n      <td>0.0</td>\n      <td>Everyone</td>\n      <td>Art &amp; Design</td>\n      <td>August 1, 2018</td>\n      <td>1.2.4</td>\n      <td>4.0.3 and up</td>\n    </tr>\n    <tr>\n      <th>3</th>\n      <td>Sketch - Draw &amp; Paint</td>\n      <td>ART_AND_DESIGN</td>\n      <td>4.5</td>\n      <td>215644</td>\n      <td>25000000.0</td>\n      <td>50000000</td>\n      <td>Free</td>\n      <td>0.0</td>\n      <td>Teen</td>\n      <td>Art &amp; Design</td>\n      <td>June 8, 2018</td>\n      <td>Varies with device</td>\n      <td>4.2 and up</td>\n    </tr>\n    <tr>\n      <th>4</th>\n      <td>Pixel Draw - Number Art Coloring Book</td>\n      <td>ART_AND_DESIGN</td>\n      <td>4.3</td>\n      <td>967</td>\n      <td>2800000.0</td>\n      <td>100000</td>\n      <td>Free</td>\n      <td>0.0</td>\n      <td>Everyone</td>\n      <td>Art &amp; Design;Creativity</td>\n      <td>June 20, 2018</td>\n      <td>1.1</td>\n      <td>4.4 and up</td>\n    </tr>\n  </tbody>\n</table>\n</div>"
     },
     "metadata": {},
     "execution_count": 48
    }
   ],
   "source": [
    "df2.head()"
   ]
  },
  {
   "cell_type": "code",
   "execution_count": 54,
   "metadata": {},
   "outputs": [
    {
     "output_type": "execute_result",
     "data": {
      "text/plain": "col_0  Category  Jumlah\n0        FAMILY    1972\n1          GAME    1144\n2         TOOLS     843\n3       MEDICAL     463\n4      BUSINESS     460",
      "text/html": "<div>\n<style scoped>\n    .dataframe tbody tr th:only-of-type {\n        vertical-align: middle;\n    }\n\n    .dataframe tbody tr th {\n        vertical-align: top;\n    }\n\n    .dataframe thead th {\n        text-align: right;\n    }\n</style>\n<table border=\"1\" class=\"dataframe\">\n  <thead>\n    <tr style=\"text-align: right;\">\n      <th>col_0</th>\n      <th>Category</th>\n      <th>Jumlah</th>\n    </tr>\n  </thead>\n  <tbody>\n    <tr>\n      <th>0</th>\n      <td>FAMILY</td>\n      <td>1972</td>\n    </tr>\n    <tr>\n      <th>1</th>\n      <td>GAME</td>\n      <td>1144</td>\n    </tr>\n    <tr>\n      <th>2</th>\n      <td>TOOLS</td>\n      <td>843</td>\n    </tr>\n    <tr>\n      <th>3</th>\n      <td>MEDICAL</td>\n      <td>463</td>\n    </tr>\n    <tr>\n      <th>4</th>\n      <td>BUSINESS</td>\n      <td>460</td>\n    </tr>\n  </tbody>\n</table>\n</div>"
     },
     "metadata": {},
     "execution_count": 54
    }
   ],
   "source": [
    "top_category = pd.crosstab(index=df2['Category'],columns='Jumlah').sort_values(ascending=False, by='Jumlah').reset_index()\n",
    "top_category.head()"
   ]
  },
  {
   "cell_type": "code",
   "execution_count": 58,
   "metadata": {},
   "outputs": [
    {
     "output_type": "execute_result",
     "data": {
      "text/plain": "                                                  Rating\nApp                                                     \n\"i DT\" Fútbol. Todos Somos Técnicos.                 0.0\n+Download 4 Instagram Twitter                        4.5\n- Free Comics - Comic Apps                           3.5\n.R                                                   4.5\n/u/app                                               4.7\n...                                                  ...\n뽕티비 - 개인방송, 인터넷방송, BJ방송                              0.0\n💎 I'm rich                                           3.8\n💘 WhatsLov: Smileys of love, stickers and GIF        4.6\n📏 Smart Ruler ↔️ cm/inch measuring for homework!     4.0\n🔥 Football Wallpapers 4K | Full HD Backgrounds 😍     4.7\n\n[9659 rows x 1 columns]",
      "text/html": "<div>\n<style scoped>\n    .dataframe tbody tr th:only-of-type {\n        vertical-align: middle;\n    }\n\n    .dataframe tbody tr th {\n        vertical-align: top;\n    }\n\n    .dataframe thead th {\n        text-align: right;\n    }\n</style>\n<table border=\"1\" class=\"dataframe\">\n  <thead>\n    <tr style=\"text-align: right;\">\n      <th></th>\n      <th>Rating</th>\n    </tr>\n    <tr>\n      <th>App</th>\n      <th></th>\n    </tr>\n  </thead>\n  <tbody>\n    <tr>\n      <th>\"i DT\" Fútbol. Todos Somos Técnicos.</th>\n      <td>0.0</td>\n    </tr>\n    <tr>\n      <th>+Download 4 Instagram Twitter</th>\n      <td>4.5</td>\n    </tr>\n    <tr>\n      <th>- Free Comics - Comic Apps</th>\n      <td>3.5</td>\n    </tr>\n    <tr>\n      <th>.R</th>\n      <td>4.5</td>\n    </tr>\n    <tr>\n      <th>/u/app</th>\n      <td>4.7</td>\n    </tr>\n    <tr>\n      <th>...</th>\n      <td>...</td>\n    </tr>\n    <tr>\n      <th>뽕티비 - 개인방송, 인터넷방송, BJ방송</th>\n      <td>0.0</td>\n    </tr>\n    <tr>\n      <th>💎 I'm rich</th>\n      <td>3.8</td>\n    </tr>\n    <tr>\n      <th>💘 WhatsLov: Smileys of love, stickers and GIF</th>\n      <td>4.6</td>\n    </tr>\n    <tr>\n      <th>📏 Smart Ruler ↔️ cm/inch measuring for homework!</th>\n      <td>4.0</td>\n    </tr>\n    <tr>\n      <th>🔥 Football Wallpapers 4K | Full HD Backgrounds 😍</th>\n      <td>4.7</td>\n    </tr>\n  </tbody>\n</table>\n<p>9659 rows × 1 columns</p>\n</div>"
     },
     "metadata": {},
     "execution_count": 58
    }
   ],
   "source": [
    "stats = {\n",
    "    'most_categories' : top_category['Category'].head(1),\n",
    "    'total':  top_category['Jumlah'].head(1),\n",
    "}\n",
    "\n",
    "df2.pivot_table(\n",
    "    index=['App'],\n",
    "    values=['Rating'],\n",
    "    aggfunc = 'sum'\n",
    ")"
   ]
  },
  {
   "cell_type": "code",
   "execution_count": null,
   "metadata": {},
   "outputs": [],
   "source": []
  }
 ],
 "metadata": {
  "language_info": {
   "codemirror_mode": {
    "name": "ipython",
    "version": 3
   },
   "file_extension": ".py",
   "mimetype": "text/x-python",
   "name": "python",
   "nbconvert_exporter": "python",
   "pygments_lexer": "ipython3",
   "version": "3.7.7-final"
  },
  "orig_nbformat": 2,
  "kernelspec": {
   "name": "algoritma",
   "display_name": "algoritma"
  }
 },
 "nbformat": 4,
 "nbformat_minor": 2
}